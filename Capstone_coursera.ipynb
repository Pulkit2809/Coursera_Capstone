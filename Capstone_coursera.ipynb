{
  "nbformat": 4,
  "nbformat_minor": 0,
  "metadata": {
    "colab": {
      "name": "Capstone_coursera.ipynb",
      "provenance": [],
      "authorship_tag": "ABX9TyP2OkYaoooEjGXOKfuCOhHq",
      "include_colab_link": true
    },
    "kernelspec": {
      "name": "python3",
      "display_name": "Python 3"
    }
  },
  "cells": [
    {
      "cell_type": "markdown",
      "metadata": {
        "id": "view-in-github",
        "colab_type": "text"
      },
      "source": [
        "<a href=\"https://colab.research.google.com/github/Pulkit2809/Coursera_Capstone/blob/master/Capstone_coursera.ipynb\" target=\"_parent\"><img src=\"https://colab.research.google.com/assets/colab-badge.svg\" alt=\"Open In Colab\"/></a>"
      ]
    },
    {
      "cell_type": "markdown",
      "metadata": {
        "id": "r9GwU2HWHY0W",
        "colab_type": "text"
      },
      "source": [
        "# This is the notebook to be used for Capstone Project of coursera only."
      ]
    },
    {
      "cell_type": "code",
      "metadata": {
        "id": "q4Ls8bF8Hjx-",
        "colab_type": "code",
        "colab": {
          "base_uri": "https://localhost:8080/",
          "height": 34
        },
        "outputId": "8041b5d1-517a-4b2d-b329-79b142ef9d40"
      },
      "source": [
        "import pandas as pd\n",
        "import numpy as np\n",
        "print('import successful')"
      ],
      "execution_count": 1,
      "outputs": [
        {
          "output_type": "stream",
          "text": [
            "import successful\n"
          ],
          "name": "stdout"
        }
      ]
    },
    {
      "cell_type": "code",
      "metadata": {
        "id": "TL3bIXPsHx7X",
        "colab_type": "code",
        "colab": {
          "base_uri": "https://localhost:8080/",
          "height": 34
        },
        "outputId": "754b93ca-3993-4dd4-e733-fb8da6a7e4ff"
      },
      "source": [
        "print('Hello Capstone Project Course!')"
      ],
      "execution_count": 2,
      "outputs": [
        {
          "output_type": "stream",
          "text": [
            "Hello Capstone Project Course!\n"
          ],
          "name": "stdout"
        }
      ]
    }
  ]
}